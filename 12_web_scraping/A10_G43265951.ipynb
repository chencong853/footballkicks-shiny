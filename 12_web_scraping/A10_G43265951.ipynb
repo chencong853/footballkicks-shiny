{
 "cells": [
  {
   "cell_type": "markdown",
   "metadata": {},
   "source": [
    "## Assignment 10\n",
    "\n",
    "Cong Chen <br>\n",
    "G43265951"
   ]
  },
  {
   "cell_type": "markdown",
   "metadata": {},
   "source": [
    "### Part 1"
   ]
  },
  {
   "cell_type": "code",
   "execution_count": 1,
   "metadata": {},
   "outputs": [],
   "source": [
    "# Get a response object for the URL requested\n",
    "import urllib.request\n",
    "from bs4 import BeautifulSoup as bs\n",
    "\n",
    "url = \"https://my.gwu.edu/mod/pws/courses.cfm?campId=1&termId=201903&subjId=DNSC\"\n",
    "\n",
    "request = urllib.request.Request(url)\n",
    "\n",
    "response = urllib.request.urlopen(request)\n",
    "\n",
    "# Import html content into object data\n",
    "data = response.read()\n",
    "\n",
    "response.close()\n",
    "\n",
    "# Create the soup\n",
    "soup = bs(data, \"html.parser\")"
   ]
  },
  {
   "cell_type": "code",
   "execution_count": 8,
   "metadata": {},
   "outputs": [
    {
     "data": {
      "text/plain": [
       "[['OPEN',\n",
       "  '96259',\n",
       "  'DNSC 1001',\n",
       "  '10',\n",
       "  'Business Analytics I: Statistics for Descriptive and Predictive Analytics',\n",
       "  '3.00',\n",
       "  'Prasad, S',\n",
       "  'DUQUES 254',\n",
       "  'TR11:10AM - 12:25PM',\n",
       "  '08/26/19 - 12/09/19',\n",
       "  ''],\n",
       " ['Comments: Registration restricted to undergraduate GWSB students only.',\n",
       "  '',\n",
       "  'Find Books']]"
      ]
     },
     "execution_count": 8,
     "metadata": {},
     "output_type": "execute_result"
    }
   ],
   "source": [
    "# Find tables\n",
    "tables = soup.findAll(\"table\")\n",
    "\n",
    "myLists = []\n",
    "\n",
    "for table in tables:\n",
    "    # Get content of each table\n",
    "    rows = table.findAll(\"tr\")\n",
    "    r = []\n",
    "    for row in rows:\n",
    "        # Get content of each row in the table\n",
    "        cells = row.findAll(\"td\")\n",
    "        c = []\n",
    "        for cell in cells:\n",
    "            # Get content of each cell \n",
    "            c.append(cell.getText().strip().replace(\"\\n\\t\\t\\t\\n\\n\\n\\t\\t\\t\\t\\t\", \" \"))\n",
    "        r.append(c)\n",
    "    myLists.append(r)\n",
    "    \n",
    "# The data started from position 4 of myLists    \n",
    "myLists[4]"
   ]
  },
  {
   "cell_type": "code",
   "execution_count": 3,
   "metadata": {},
   "outputs": [
    {
     "data": {
      "text/plain": [
       "['STATUS',\n",
       " 'CRN',\n",
       " 'SUBJECT',\n",
       " 'SECT',\n",
       " 'COURSE',\n",
       " 'CREDIT',\n",
       " 'INSTR.',\n",
       " 'BLDG/RM',\n",
       " 'DAY/TIME',\n",
       " 'FROM / TO']"
      ]
     },
     "execution_count": 3,
     "metadata": {},
     "output_type": "execute_result"
    }
   ],
   "source": [
    "# Create list of column names\n",
    "import pandas as pd\n",
    "headings = myLists[3][0][:-1]\n",
    "headings"
   ]
  },
  {
   "cell_type": "code",
   "execution_count": 4,
   "metadata": {},
   "outputs": [
    {
     "data": {
      "text/html": [
       "<div>\n",
       "<style scoped>\n",
       "    .dataframe tbody tr th:only-of-type {\n",
       "        vertical-align: middle;\n",
       "    }\n",
       "\n",
       "    .dataframe tbody tr th {\n",
       "        vertical-align: top;\n",
       "    }\n",
       "\n",
       "    .dataframe thead th {\n",
       "        text-align: right;\n",
       "    }\n",
       "</style>\n",
       "<table border=\"1\" class=\"dataframe\">\n",
       "  <thead>\n",
       "    <tr style=\"text-align: right;\">\n",
       "      <th></th>\n",
       "      <th>STATUS</th>\n",
       "      <th>CRN</th>\n",
       "      <th>SUBJECT</th>\n",
       "      <th>SECT</th>\n",
       "      <th>COURSE</th>\n",
       "      <th>CREDIT</th>\n",
       "      <th>INSTR.</th>\n",
       "      <th>BLDG/RM</th>\n",
       "      <th>DAY/TIME</th>\n",
       "      <th>FROM / TO</th>\n",
       "    </tr>\n",
       "  </thead>\n",
       "  <tbody>\n",
       "    <tr>\n",
       "      <th>0</th>\n",
       "      <td>OPEN</td>\n",
       "      <td>96259</td>\n",
       "      <td>DNSC 1001</td>\n",
       "      <td>10</td>\n",
       "      <td>Business Analytics I: Statistics for Descripti...</td>\n",
       "      <td>3.00</td>\n",
       "      <td>Prasad, S</td>\n",
       "      <td>DUQUES 254</td>\n",
       "      <td>TR11:10AM - 12:25PM</td>\n",
       "      <td>08/26/19 - 12/09/19</td>\n",
       "    </tr>\n",
       "    <tr>\n",
       "      <th>1</th>\n",
       "      <td>OPEN</td>\n",
       "      <td>96260</td>\n",
       "      <td>DNSC 2001</td>\n",
       "      <td>10</td>\n",
       "      <td>Business Analytics II: Predictive and Prescrip...</td>\n",
       "      <td>3.00</td>\n",
       "      <td>Prasad, S</td>\n",
       "      <td>ROME 204</td>\n",
       "      <td>TR02:20PM - 03:35PM</td>\n",
       "      <td>08/26/19 - 12/09/19</td>\n",
       "    </tr>\n",
       "    <tr>\n",
       "      <th>2</th>\n",
       "      <td>WAITLIST</td>\n",
       "      <td>96261</td>\n",
       "      <td>DNSC 4211</td>\n",
       "      <td>10</td>\n",
       "      <td>Programming for Analytics</td>\n",
       "      <td>3.00</td>\n",
       "      <td>Kanungo, S</td>\n",
       "      <td>GELM B04</td>\n",
       "      <td>TR11:10AM - 12:25PM</td>\n",
       "      <td>08/26/19 - 12/09/19</td>\n",
       "    </tr>\n",
       "    <tr>\n",
       "      <th>3</th>\n",
       "      <td>OPEN</td>\n",
       "      <td>95315</td>\n",
       "      <td>DNSC 4404</td>\n",
       "      <td>10</td>\n",
       "      <td>Essentials of Project Management</td>\n",
       "      <td>3.00</td>\n",
       "      <td>Khamooshi, H</td>\n",
       "      <td>GOV 102</td>\n",
       "      <td>R03:30PM - 06:00PM</td>\n",
       "      <td>08/26/19 - 12/09/19</td>\n",
       "    </tr>\n",
       "    <tr>\n",
       "      <th>4</th>\n",
       "      <td>OPEN</td>\n",
       "      <td>97612</td>\n",
       "      <td>DNSC 4900</td>\n",
       "      <td>10</td>\n",
       "      <td>Text Analytics</td>\n",
       "      <td>3.00</td>\n",
       "      <td>Prasad, S</td>\n",
       "      <td>DUQUES 350</td>\n",
       "      <td>TR12:45PM - 02:00PM</td>\n",
       "      <td>08/26/19 - 12/09/19</td>\n",
       "    </tr>\n",
       "  </tbody>\n",
       "</table>\n",
       "</div>"
      ],
      "text/plain": [
       "     STATUS    CRN    SUBJECT SECT  \\\n",
       "0      OPEN  96259  DNSC 1001   10   \n",
       "1      OPEN  96260  DNSC 2001   10   \n",
       "2  WAITLIST  96261  DNSC 4211   10   \n",
       "3      OPEN  95315  DNSC 4404   10   \n",
       "4      OPEN  97612  DNSC 4900   10   \n",
       "\n",
       "                                              COURSE CREDIT        INSTR.  \\\n",
       "0  Business Analytics I: Statistics for Descripti...   3.00     Prasad, S   \n",
       "1  Business Analytics II: Predictive and Prescrip...   3.00     Prasad, S   \n",
       "2                          Programming for Analytics   3.00    Kanungo, S   \n",
       "3                   Essentials of Project Management   3.00  Khamooshi, H   \n",
       "4                                     Text Analytics   3.00     Prasad, S   \n",
       "\n",
       "      BLDG/RM             DAY/TIME            FROM / TO  \n",
       "0  DUQUES 254  TR11:10AM - 12:25PM  08/26/19 - 12/09/19  \n",
       "1    ROME 204  TR02:20PM - 03:35PM  08/26/19 - 12/09/19  \n",
       "2    GELM B04  TR11:10AM - 12:25PM  08/26/19 - 12/09/19  \n",
       "3     GOV 102   R03:30PM - 06:00PM  08/26/19 - 12/09/19  \n",
       "4  DUQUES 350  TR12:45PM - 02:00PM  08/26/19 - 12/09/19  "
      ]
     },
     "execution_count": 4,
     "metadata": {},
     "output_type": "execute_result"
    }
   ],
   "source": [
    "# Filter data, only keeps essential data \n",
    "newLists = []\n",
    "for i in list(range(4,24)):\n",
    "    newLists.append(myLists[i][0][:-1])\n",
    "    \n",
    "# Create dataframe and import data\n",
    "mydf = pd.DataFrame(newLists, columns = headings)\n",
    "mydf.head()"
   ]
  },
  {
   "cell_type": "code",
   "execution_count": 5,
   "metadata": {},
   "outputs": [
    {
     "data": {
      "text/plain": [
       "(20, 10)"
      ]
     },
     "execution_count": 5,
     "metadata": {},
     "output_type": "execute_result"
    }
   ],
   "source": [
    "# Check shape of dataframe\n",
    "mydf.shape"
   ]
  },
  {
   "cell_type": "markdown",
   "metadata": {},
   "source": [
    "### Part 2"
   ]
  },
  {
   "cell_type": "code",
   "execution_count": 6,
   "metadata": {},
   "outputs": [
    {
     "data": {
      "text/plain": [
       "<Figure size 640x480 with 1 Axes>"
      ]
     },
     "metadata": {},
     "output_type": "display_data"
    }
   ],
   "source": [
    "# Draw the bar graph based on credit\n",
    "import matplotlib.pyplot as plt\n",
    "mydf[\"CREDIT\"].value_counts().plot(kind = 'bar')\n",
    "plt.title(\"Bar Plot of Course Credit\")\n",
    "plt.xlabel('Credit')\n",
    "plt.ylabel('Count')\n",
    "plt.show()"
   ]
  }
 ],
 "metadata": {
  "kernelspec": {
   "display_name": "Python 3",
   "language": "python",
   "name": "python3"
  },
  "language_info": {
   "codemirror_mode": {
    "name": "ipython",
    "version": 3
   },
   "file_extension": ".py",
   "mimetype": "text/x-python",
   "name": "python",
   "nbconvert_exporter": "python",
   "pygments_lexer": "ipython3",
   "version": "3.7.1"
  }
 },
 "nbformat": 4,
 "nbformat_minor": 2
}
